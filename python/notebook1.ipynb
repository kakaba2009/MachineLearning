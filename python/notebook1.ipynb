{
 "cells": [
  {
   "cell_type": "code",
   "execution_count": 1,
   "metadata": {
    "collapsed": true
   },
   "outputs": [],
   "source": [
    "from numpy import *\n",
    "from pylab import *\n",
    "%matplotlib inline"
   ]
  },
  {
   "cell_type": "code",
   "execution_count": 2,
   "metadata": {
    "collapsed": false
   },
   "outputs": [
    {
     "name": "stderr",
     "output_type": "stream",
     "text": [
      "Using TensorFlow backend.\n"
     ]
    }
   ],
   "source": [
    "import os\n",
    "import time\n",
    "import math\n",
    "import warnings\n",
    "import numpy as np\n",
    "import tensorflow as tf\n",
    "import src.mylib.mcalc as mcalc\n",
    "import src.mylib.mlstm as mlstm\n",
    "import src.mylib.mutils as utl\n",
    "from tensorflow.contrib import rnn\n",
    "from sklearn.model_selection import KFold"
   ]
  },
  {
   "cell_type": "code",
   "execution_count": 3,
   "metadata": {
    "collapsed": true
   },
   "outputs": [],
   "source": [
    "os.environ['TF_CPP_MIN_LOG_LEVEL'] = '3'  # Hide messy TensorFlow warnings\n",
    "warnings.filterwarnings(\"ignore\")  # Hide messy Numpy warnings\n",
    "\n",
    "tf.set_random_seed(0)  # fix random seed"
   ]
  },
  {
   "cell_type": "code",
   "execution_count": 4,
   "metadata": {
    "collapsed": true
   },
   "outputs": [],
   "source": [
    "SEQLEN = 5\n",
    "BATCHSIZE = 10\n",
    "output_dim = 1\n",
    "CELLSIZE = 16\n",
    "NLAYERS = 1\n",
    "learning_rate = 0.001  # fixed learning rate\n",
    "dropout_pkeep = 1.0    # no dropout\n",
    "epochs_num = 2"
   ]
  },
  {
   "cell_type": "code",
   "execution_count": 5,
   "metadata": {
    "collapsed": false
   },
   "outputs": [
    {
     "name": "stdout",
     "output_type": "stream",
     "text": [
      "<class 'pandas.core.frame.DataFrame'>\n",
      "DatetimeIndex: 75735 entries, 1996-10-30 to 2017-05-04\n",
      "Data columns (total 5 columns):\n",
      "Symbol    75735 non-null object\n",
      "Open      75735 non-null float64\n",
      "High      75735 non-null float64\n",
      "Low       75735 non-null float64\n",
      "Close     75735 non-null float64\n",
      "dtypes: float64(4), object(1)\n",
      "memory usage: 3.5+ MB\n",
      "None\n"
     ]
    }
   ],
   "source": [
    "ds = mlstm.loadFXData('JPY=X', 'src/db/forex.db', 101)\n",
    "ds = ds[['Close']]"
   ]
  },
  {
   "cell_type": "code",
   "execution_count": 6,
   "metadata": {
    "collapsed": false
   },
   "outputs": [],
   "source": [
    "ds = ds.values\n",
    "ds = np.reshape(ds, -1)"
   ]
  },
  {
   "cell_type": "code",
   "execution_count": 8,
   "metadata": {
    "collapsed": false
   },
   "outputs": [
    {
     "data": {
      "text/plain": [
       "(101,)"
      ]
     },
     "execution_count": 8,
     "metadata": {},
     "output_type": "execute_result"
    }
   ],
   "source": [
    "ds.shape"
   ]
  },
  {
   "cell_type": "code",
   "execution_count": 29,
   "metadata": {
    "collapsed": false
   },
   "outputs": [
    {
     "name": "stdout",
     "output_type": "stream",
     "text": [
      "x= (10, 5)\n",
      "y_= (10, 5)\n",
      "x= (10, 5)\n",
      "y_= (10, 5)\n"
     ]
    }
   ],
   "source": [
    "for x, y_, epoch in utl.rnn_minibatch_sequencer(ds, BATCHSIZE, SEQLEN, nb_epochs=1):\n",
    "    print(\"x=\",x.shape)\n",
    "    print(\"y_=\", y_.shape)"
   ]
  },
  {
   "cell_type": "code",
   "execution_count": null,
   "metadata": {
    "collapsed": true
   },
   "outputs": [],
   "source": []
  }
 ],
 "metadata": {
  "anaconda-cloud": {},
  "kernelspec": {
   "display_name": "Python 3",
   "language": "python",
   "name": "python3"
  },
  "language_info": {
   "codemirror_mode": {
    "name": "ipython",
    "version": 3
   },
   "file_extension": ".py",
   "mimetype": "text/x-python",
   "name": "python",
   "nbconvert_exporter": "python",
   "pygments_lexer": "ipython3",
   "version": "3.5.2"
  }
 },
 "nbformat": 4,
 "nbformat_minor": 0
}
